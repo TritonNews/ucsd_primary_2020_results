{
 "cells": [
  {
   "cell_type": "markdown",
   "metadata": {},
   "source": [
    "# UC San Diego Midterms 2018 Precinct Results"
   ]
  },
  {
   "cell_type": "code",
   "execution_count": 118,
   "metadata": {},
   "outputs": [],
   "source": [
    "import pandas as pd\n",
    "import os"
   ]
  },
  {
   "cell_type": "code",
   "execution_count": 3,
   "metadata": {},
   "outputs": [],
   "source": [
    "ucsd_precincts = {120000: \"MESA\", 120040: \"VILLAGE\", 120041: \"MARSHALL\", \n",
    "                  120042: \"ROOSEVELT\", 120043: \"MUIR\", 120050: \"REVELLE\", 120060: \"SIXTH\", 120070: \"WARREN\", \n",
    "                  120065: \"MAIL-DROP\"}"
   ]
  },
  {
   "cell_type": "code",
   "execution_count": 4,
   "metadata": {},
   "outputs": [],
   "source": [
    "sdprecincts_df = pd.read_csv(\"san_diego_precints.csv\", skiprows=1)"
   ]
  },
  {
   "cell_type": "code",
   "execution_count": 5,
   "metadata": {},
   "outputs": [],
   "source": [
    "col_names = list(sdprecincts_df)\n",
    "new_col_names = []\n",
    "for name in col_names:\n",
    "  new_col_names.append(name.upper().replace(\" \", \"\"))\n",
    "sdprecincts_df.columns = new_col_names"
   ]
  },
  {
   "cell_type": "code",
   "execution_count": 6,
   "metadata": {},
   "outputs": [
    {
     "data": {
      "text/html": [
       "<div>\n",
       "<style scoped>\n",
       "    .dataframe tbody tr th:only-of-type {\n",
       "        vertical-align: middle;\n",
       "    }\n",
       "\n",
       "    .dataframe tbody tr th {\n",
       "        vertical-align: top;\n",
       "    }\n",
       "\n",
       "    .dataframe thead th {\n",
       "        text-align: right;\n",
       "    }\n",
       "</style>\n",
       "<table border=\"1\" class=\"dataframe\">\n",
       "  <thead>\n",
       "    <tr style=\"text-align: right;\">\n",
       "      <th></th>\n",
       "      <th>PRECINCT</th>\n",
       "      <th>CONTESTNAME</th>\n",
       "      <th>CANDIDATENAME</th>\n",
       "      <th>VOTES</th>\n",
       "      <th>VOTERTURNOUT</th>\n",
       "    </tr>\n",
       "  </thead>\n",
       "  <tbody>\n",
       "    <tr>\n",
       "      <th>0</th>\n",
       "      <td>105000-RANCHO BERNARDO</td>\n",
       "      <td>GOVERNOR</td>\n",
       "      <td>JOHN H. COX</td>\n",
       "      <td>445</td>\n",
       "      <td>83.13%</td>\n",
       "    </tr>\n",
       "    <tr>\n",
       "      <th>1</th>\n",
       "      <td>105010-RANCHO BERNARDO</td>\n",
       "      <td>GOVERNOR</td>\n",
       "      <td>JOHN H. COX</td>\n",
       "      <td>720</td>\n",
       "      <td>82.62%</td>\n",
       "    </tr>\n",
       "    <tr>\n",
       "      <th>2</th>\n",
       "      <td>105040-RANCHO BERNARDO</td>\n",
       "      <td>GOVERNOR</td>\n",
       "      <td>JOHN H. COX</td>\n",
       "      <td>676</td>\n",
       "      <td>86.39%</td>\n",
       "    </tr>\n",
       "    <tr>\n",
       "      <th>3</th>\n",
       "      <td>105100-RANCHO BERNARDO</td>\n",
       "      <td>GOVERNOR</td>\n",
       "      <td>JOHN H. COX</td>\n",
       "      <td>459</td>\n",
       "      <td>80.31%</td>\n",
       "    </tr>\n",
       "    <tr>\n",
       "      <th>4</th>\n",
       "      <td>105160-RANCHO BERNARDO</td>\n",
       "      <td>GOVERNOR</td>\n",
       "      <td>JOHN H. COX</td>\n",
       "      <td>410</td>\n",
       "      <td>75.45%</td>\n",
       "    </tr>\n",
       "  </tbody>\n",
       "</table>\n",
       "</div>"
      ],
      "text/plain": [
       "                 PRECINCT CONTESTNAME CANDIDATENAME  VOTES VOTERTURNOUT\n",
       "0  105000-RANCHO BERNARDO    GOVERNOR   JOHN H. COX    445       83.13%\n",
       "1  105010-RANCHO BERNARDO    GOVERNOR   JOHN H. COX    720       82.62%\n",
       "2  105040-RANCHO BERNARDO    GOVERNOR   JOHN H. COX    676       86.39%\n",
       "3  105100-RANCHO BERNARDO    GOVERNOR   JOHN H. COX    459       80.31%\n",
       "4  105160-RANCHO BERNARDO    GOVERNOR   JOHN H. COX    410       75.45%"
      ]
     },
     "execution_count": 6,
     "metadata": {},
     "output_type": "execute_result"
    }
   ],
   "source": [
    "sdprecincts_df.head()"
   ]
  },
  {
   "cell_type": "code",
   "execution_count": 7,
   "metadata": {},
   "outputs": [
    {
     "data": {
      "text/plain": [
       "['PRECINCT', 'CONTESTNAME', 'CANDIDATENAME', 'VOTES', 'VOTERTURNOUT']"
      ]
     },
     "execution_count": 7,
     "metadata": {},
     "output_type": "execute_result"
    }
   ],
   "source": [
    "list(sdprecincts_df)"
   ]
  },
  {
   "cell_type": "code",
   "execution_count": 8,
   "metadata": {},
   "outputs": [],
   "source": [
    "sdprecincts_df[\"CONSNUM\"] = sdprecincts_df[\"PRECINCT\"].str.slice(0,6).astype(int)"
   ]
  },
  {
   "cell_type": "code",
   "execution_count": 9,
   "metadata": {},
   "outputs": [
    {
     "data": {
      "text/html": [
       "<div>\n",
       "<style scoped>\n",
       "    .dataframe tbody tr th:only-of-type {\n",
       "        vertical-align: middle;\n",
       "    }\n",
       "\n",
       "    .dataframe tbody tr th {\n",
       "        vertical-align: top;\n",
       "    }\n",
       "\n",
       "    .dataframe thead th {\n",
       "        text-align: right;\n",
       "    }\n",
       "</style>\n",
       "<table border=\"1\" class=\"dataframe\">\n",
       "  <thead>\n",
       "    <tr style=\"text-align: right;\">\n",
       "      <th></th>\n",
       "      <th>PRECINCT</th>\n",
       "      <th>CONTESTNAME</th>\n",
       "      <th>CANDIDATENAME</th>\n",
       "      <th>VOTES</th>\n",
       "      <th>VOTERTURNOUT</th>\n",
       "      <th>CONSNUM</th>\n",
       "    </tr>\n",
       "  </thead>\n",
       "  <tbody>\n",
       "    <tr>\n",
       "      <th>0</th>\n",
       "      <td>105000-RANCHO BERNARDO</td>\n",
       "      <td>GOVERNOR</td>\n",
       "      <td>JOHN H. COX</td>\n",
       "      <td>445</td>\n",
       "      <td>83.13%</td>\n",
       "      <td>105000</td>\n",
       "    </tr>\n",
       "    <tr>\n",
       "      <th>1</th>\n",
       "      <td>105010-RANCHO BERNARDO</td>\n",
       "      <td>GOVERNOR</td>\n",
       "      <td>JOHN H. COX</td>\n",
       "      <td>720</td>\n",
       "      <td>82.62%</td>\n",
       "      <td>105010</td>\n",
       "    </tr>\n",
       "    <tr>\n",
       "      <th>2</th>\n",
       "      <td>105040-RANCHO BERNARDO</td>\n",
       "      <td>GOVERNOR</td>\n",
       "      <td>JOHN H. COX</td>\n",
       "      <td>676</td>\n",
       "      <td>86.39%</td>\n",
       "      <td>105040</td>\n",
       "    </tr>\n",
       "    <tr>\n",
       "      <th>3</th>\n",
       "      <td>105100-RANCHO BERNARDO</td>\n",
       "      <td>GOVERNOR</td>\n",
       "      <td>JOHN H. COX</td>\n",
       "      <td>459</td>\n",
       "      <td>80.31%</td>\n",
       "      <td>105100</td>\n",
       "    </tr>\n",
       "    <tr>\n",
       "      <th>4</th>\n",
       "      <td>105160-RANCHO BERNARDO</td>\n",
       "      <td>GOVERNOR</td>\n",
       "      <td>JOHN H. COX</td>\n",
       "      <td>410</td>\n",
       "      <td>75.45%</td>\n",
       "      <td>105160</td>\n",
       "    </tr>\n",
       "  </tbody>\n",
       "</table>\n",
       "</div>"
      ],
      "text/plain": [
       "                 PRECINCT CONTESTNAME CANDIDATENAME  VOTES VOTERTURNOUT  \\\n",
       "0  105000-RANCHO BERNARDO    GOVERNOR   JOHN H. COX    445       83.13%   \n",
       "1  105010-RANCHO BERNARDO    GOVERNOR   JOHN H. COX    720       82.62%   \n",
       "2  105040-RANCHO BERNARDO    GOVERNOR   JOHN H. COX    676       86.39%   \n",
       "3  105100-RANCHO BERNARDO    GOVERNOR   JOHN H. COX    459       80.31%   \n",
       "4  105160-RANCHO BERNARDO    GOVERNOR   JOHN H. COX    410       75.45%   \n",
       "\n",
       "   CONSNUM  \n",
       "0   105000  \n",
       "1   105010  \n",
       "2   105040  \n",
       "3   105100  \n",
       "4   105160  "
      ]
     },
     "execution_count": 9,
     "metadata": {},
     "output_type": "execute_result"
    }
   ],
   "source": [
    "sdprecincts_df.head()"
   ]
  },
  {
   "cell_type": "code",
   "execution_count": 10,
   "metadata": {},
   "outputs": [],
   "source": [
    "ucsdprecincts_df = sdprecincts_df[sdprecincts_df[\"CONSNUM\"].isin(ucsd_precincts.keys())]"
   ]
  },
  {
   "cell_type": "code",
   "execution_count": 11,
   "metadata": {},
   "outputs": [
    {
     "data": {
      "text/html": [
       "<div>\n",
       "<style scoped>\n",
       "    .dataframe tbody tr th:only-of-type {\n",
       "        vertical-align: middle;\n",
       "    }\n",
       "\n",
       "    .dataframe tbody tr th {\n",
       "        vertical-align: top;\n",
       "    }\n",
       "\n",
       "    .dataframe thead th {\n",
       "        text-align: right;\n",
       "    }\n",
       "</style>\n",
       "<table border=\"1\" class=\"dataframe\">\n",
       "  <thead>\n",
       "    <tr style=\"text-align: right;\">\n",
       "      <th></th>\n",
       "      <th>PRECINCT</th>\n",
       "      <th>CONTESTNAME</th>\n",
       "      <th>CANDIDATENAME</th>\n",
       "      <th>VOTES</th>\n",
       "      <th>VOTERTURNOUT</th>\n",
       "      <th>CONSNUM</th>\n",
       "    </tr>\n",
       "  </thead>\n",
       "  <tbody>\n",
       "    <tr>\n",
       "      <th>91</th>\n",
       "      <td>120000-UNIVERSITY N</td>\n",
       "      <td>GOVERNOR</td>\n",
       "      <td>JOHN H. COX</td>\n",
       "      <td>106</td>\n",
       "      <td>74.98%</td>\n",
       "      <td>120000</td>\n",
       "    </tr>\n",
       "    <tr>\n",
       "      <th>95</th>\n",
       "      <td>120040-UNIVERSITY N</td>\n",
       "      <td>GOVERNOR</td>\n",
       "      <td>JOHN H. COX</td>\n",
       "      <td>29</td>\n",
       "      <td>75.59%</td>\n",
       "      <td>120040</td>\n",
       "    </tr>\n",
       "    <tr>\n",
       "      <th>96</th>\n",
       "      <td>120041-UNIVERSITY N</td>\n",
       "      <td>GOVERNOR</td>\n",
       "      <td>JOHN H. COX</td>\n",
       "      <td>23</td>\n",
       "      <td>80.39%</td>\n",
       "      <td>120041</td>\n",
       "    </tr>\n",
       "    <tr>\n",
       "      <th>97</th>\n",
       "      <td>120042-UNIVERSITY N</td>\n",
       "      <td>GOVERNOR</td>\n",
       "      <td>JOHN H. COX</td>\n",
       "      <td>54</td>\n",
       "      <td>62.74%</td>\n",
       "      <td>120042</td>\n",
       "    </tr>\n",
       "    <tr>\n",
       "      <th>98</th>\n",
       "      <td>120043-UNIVERSITY N</td>\n",
       "      <td>GOVERNOR</td>\n",
       "      <td>JOHN H. COX</td>\n",
       "      <td>32</td>\n",
       "      <td>109.89%</td>\n",
       "      <td>120043</td>\n",
       "    </tr>\n",
       "  </tbody>\n",
       "</table>\n",
       "</div>"
      ],
      "text/plain": [
       "               PRECINCT CONTESTNAME CANDIDATENAME  VOTES VOTERTURNOUT  CONSNUM\n",
       "91  120000-UNIVERSITY N    GOVERNOR   JOHN H. COX    106       74.98%   120000\n",
       "95  120040-UNIVERSITY N    GOVERNOR   JOHN H. COX     29       75.59%   120040\n",
       "96  120041-UNIVERSITY N    GOVERNOR   JOHN H. COX     23       80.39%   120041\n",
       "97  120042-UNIVERSITY N    GOVERNOR   JOHN H. COX     54       62.74%   120042\n",
       "98  120043-UNIVERSITY N    GOVERNOR   JOHN H. COX     32      109.89%   120043"
      ]
     },
     "execution_count": 11,
     "metadata": {},
     "output_type": "execute_result"
    }
   ],
   "source": [
    "ucsdprecincts_df.head()"
   ]
  },
  {
   "cell_type": "code",
   "execution_count": 12,
   "metadata": {},
   "outputs": [],
   "source": [
    "color_codes = {'XAVIER BECERRA': 2,\n",
    "             'STEVEN C BAILEY': 3,\n",
    "             'NATHAN FLETCHER': 2,\n",
    "             'BONNIE DUMANIS': 3,\n",
    "             'NO': 0,\n",
    "             'YES': 1,\n",
    "             'BETTY T. YEE': 2,\n",
    "             'KONSTANTINOS RODITIS': 3,\n",
    "             'GAVIN NEWSOM': 2,\n",
    "             'JOHN H. COX': 3,\n",
    "             'RICARDO LARA': 2,\n",
    "             'STEVE POIZNER': 5,\n",
    "             'ELENI KOUNALAKIS': 4,\n",
    "             'ED HERNANDEZ': 2,\n",
    "             'MAGGIE J. CAMPBELL': 3,\n",
    "             'TODD GLORIA': 2,\n",
    "             'TONY K. THURMOND': 4,\n",
    "             'MARSHALL TUCK': 2,\n",
    "             'GREG CONLON': 3,\n",
    "             'FIONA MA': 2,\n",
    "             'KEVIN DE LEON': 2,\n",
    "             'DIANNE FEINSTEIN': 4,\n",
    "             'DIANE L. HARKEY': 3,\n",
    "             'MIKE LEVIN': 2,\n",
    "             'SCOTT PETERS': 2,\n",
    "             'OMAR QUDRAT': 3}"
   ]
  },
  {
   "cell_type": "code",
   "execution_count": 13,
   "metadata": {},
   "outputs": [
    {
     "name": "stderr",
     "output_type": "stream",
     "text": [
      "/Users/SoloMune/miniconda2/lib/python2.7/site-packages/ipykernel_launcher.py:4: SettingWithCopyWarning: \n",
      "A value is trying to be set on a copy of a slice from a DataFrame.\n",
      "Try using .loc[row_indexer,col_indexer] = value instead\n",
      "\n",
      "See the caveats in the documentation: http://pandas.pydata.org/pandas-docs/stable/indexing.html#indexing-view-versus-copy\n",
      "  after removing the cwd from sys.path.\n"
     ]
    }
   ],
   "source": [
    "precinct_name = []\n",
    "for consnum in ucsdprecincts_df[\"CONSNUM\"]:\n",
    "  precinct_name.append(ucsd_precincts[consnum])\n",
    "ucsdprecincts_df[\"CONSNAME\"] = precinct_name"
   ]
  },
  {
   "cell_type": "code",
   "execution_count": 14,
   "metadata": {},
   "outputs": [
    {
     "data": {
      "text/html": [
       "<div>\n",
       "<style scoped>\n",
       "    .dataframe tbody tr th:only-of-type {\n",
       "        vertical-align: middle;\n",
       "    }\n",
       "\n",
       "    .dataframe tbody tr th {\n",
       "        vertical-align: top;\n",
       "    }\n",
       "\n",
       "    .dataframe thead th {\n",
       "        text-align: right;\n",
       "    }\n",
       "</style>\n",
       "<table border=\"1\" class=\"dataframe\">\n",
       "  <thead>\n",
       "    <tr style=\"text-align: right;\">\n",
       "      <th></th>\n",
       "      <th>PRECINCT</th>\n",
       "      <th>CONTESTNAME</th>\n",
       "      <th>CANDIDATENAME</th>\n",
       "      <th>VOTES</th>\n",
       "      <th>VOTERTURNOUT</th>\n",
       "      <th>CONSNUM</th>\n",
       "      <th>CONSNAME</th>\n",
       "    </tr>\n",
       "  </thead>\n",
       "  <tbody>\n",
       "    <tr>\n",
       "      <th>91</th>\n",
       "      <td>120000-UNIVERSITY N</td>\n",
       "      <td>GOVERNOR</td>\n",
       "      <td>JOHN H. COX</td>\n",
       "      <td>106</td>\n",
       "      <td>74.98%</td>\n",
       "      <td>120000</td>\n",
       "      <td>MESA</td>\n",
       "    </tr>\n",
       "    <tr>\n",
       "      <th>95</th>\n",
       "      <td>120040-UNIVERSITY N</td>\n",
       "      <td>GOVERNOR</td>\n",
       "      <td>JOHN H. COX</td>\n",
       "      <td>29</td>\n",
       "      <td>75.59%</td>\n",
       "      <td>120040</td>\n",
       "      <td>VILLAGE</td>\n",
       "    </tr>\n",
       "    <tr>\n",
       "      <th>96</th>\n",
       "      <td>120041-UNIVERSITY N</td>\n",
       "      <td>GOVERNOR</td>\n",
       "      <td>JOHN H. COX</td>\n",
       "      <td>23</td>\n",
       "      <td>80.39%</td>\n",
       "      <td>120041</td>\n",
       "      <td>MARSHALL</td>\n",
       "    </tr>\n",
       "    <tr>\n",
       "      <th>97</th>\n",
       "      <td>120042-UNIVERSITY N</td>\n",
       "      <td>GOVERNOR</td>\n",
       "      <td>JOHN H. COX</td>\n",
       "      <td>54</td>\n",
       "      <td>62.74%</td>\n",
       "      <td>120042</td>\n",
       "      <td>ROOSEVELT</td>\n",
       "    </tr>\n",
       "    <tr>\n",
       "      <th>98</th>\n",
       "      <td>120043-UNIVERSITY N</td>\n",
       "      <td>GOVERNOR</td>\n",
       "      <td>JOHN H. COX</td>\n",
       "      <td>32</td>\n",
       "      <td>109.89%</td>\n",
       "      <td>120043</td>\n",
       "      <td>MUIR</td>\n",
       "    </tr>\n",
       "  </tbody>\n",
       "</table>\n",
       "</div>"
      ],
      "text/plain": [
       "               PRECINCT CONTESTNAME CANDIDATENAME  VOTES VOTERTURNOUT  \\\n",
       "91  120000-UNIVERSITY N    GOVERNOR   JOHN H. COX    106       74.98%   \n",
       "95  120040-UNIVERSITY N    GOVERNOR   JOHN H. COX     29       75.59%   \n",
       "96  120041-UNIVERSITY N    GOVERNOR   JOHN H. COX     23       80.39%   \n",
       "97  120042-UNIVERSITY N    GOVERNOR   JOHN H. COX     54       62.74%   \n",
       "98  120043-UNIVERSITY N    GOVERNOR   JOHN H. COX     32      109.89%   \n",
       "\n",
       "    CONSNUM   CONSNAME  \n",
       "91   120000       MESA  \n",
       "95   120040    VILLAGE  \n",
       "96   120041   MARSHALL  \n",
       "97   120042  ROOSEVELT  \n",
       "98   120043       MUIR  "
      ]
     },
     "execution_count": 14,
     "metadata": {},
     "output_type": "execute_result"
    }
   ],
   "source": [
    "ucsdprecincts_df.head()"
   ]
  },
  {
   "cell_type": "code",
   "execution_count": 15,
   "metadata": {},
   "outputs": [
    {
     "name": "stderr",
     "output_type": "stream",
     "text": [
      "/Users/SoloMune/miniconda2/lib/python2.7/site-packages/ipykernel_launcher.py:1: SettingWithCopyWarning: \n",
      "A value is trying to be set on a copy of a slice from a DataFrame.\n",
      "Try using .loc[row_indexer,col_indexer] = value instead\n",
      "\n",
      "See the caveats in the documentation: http://pandas.pydata.org/pandas-docs/stable/indexing.html#indexing-view-versus-copy\n",
      "  \"\"\"Entry point for launching an IPython kernel.\n"
     ]
    }
   ],
   "source": [
    "ucsdprecincts_df[\"VOTERTURNOUT\"] = sdprecincts_df[\"VOTERTURNOUT\"].str.slice(0, -2).astype(float)"
   ]
  },
  {
   "cell_type": "code",
   "execution_count": 16,
   "metadata": {},
   "outputs": [
    {
     "data": {
      "text/plain": [
       "68.32222222222222"
      ]
     },
     "execution_count": 16,
     "metadata": {},
     "output_type": "execute_result"
    }
   ],
   "source": [
    "ucsdprecincts_df[\"VOTERTURNOUT\"].mean()"
   ]
  },
  {
   "cell_type": "code",
   "execution_count": 17,
   "metadata": {},
   "outputs": [
    {
     "data": {
      "text/html": [
       "<div>\n",
       "<style scoped>\n",
       "    .dataframe tbody tr th:only-of-type {\n",
       "        vertical-align: middle;\n",
       "    }\n",
       "\n",
       "    .dataframe tbody tr th {\n",
       "        vertical-align: top;\n",
       "    }\n",
       "\n",
       "    .dataframe thead th {\n",
       "        text-align: right;\n",
       "    }\n",
       "</style>\n",
       "<table border=\"1\" class=\"dataframe\">\n",
       "  <thead>\n",
       "    <tr style=\"text-align: right;\">\n",
       "      <th></th>\n",
       "      <th>PRECINCT</th>\n",
       "      <th>CONTESTNAME</th>\n",
       "      <th>CANDIDATENAME</th>\n",
       "      <th>VOTES</th>\n",
       "      <th>VOTERTURNOUT</th>\n",
       "      <th>CONSNUM</th>\n",
       "      <th>CONSNAME</th>\n",
       "    </tr>\n",
       "  </thead>\n",
       "  <tbody>\n",
       "    <tr>\n",
       "      <th>2227</th>\n",
       "      <td>120000-UNIVERSITY N</td>\n",
       "      <td>GOVERNOR</td>\n",
       "      <td>GAVIN NEWSOM</td>\n",
       "      <td>761</td>\n",
       "      <td>74.9</td>\n",
       "      <td>120000</td>\n",
       "      <td>MESA</td>\n",
       "    </tr>\n",
       "    <tr>\n",
       "      <th>2231</th>\n",
       "      <td>120040-UNIVERSITY N</td>\n",
       "      <td>GOVERNOR</td>\n",
       "      <td>GAVIN NEWSOM</td>\n",
       "      <td>254</td>\n",
       "      <td>75.5</td>\n",
       "      <td>120040</td>\n",
       "      <td>VILLAGE</td>\n",
       "    </tr>\n",
       "    <tr>\n",
       "      <th>2232</th>\n",
       "      <td>120041-UNIVERSITY N</td>\n",
       "      <td>GOVERNOR</td>\n",
       "      <td>GAVIN NEWSOM</td>\n",
       "      <td>217</td>\n",
       "      <td>80.3</td>\n",
       "      <td>120041</td>\n",
       "      <td>MARSHALL</td>\n",
       "    </tr>\n",
       "    <tr>\n",
       "      <th>2233</th>\n",
       "      <td>120042-UNIVERSITY N</td>\n",
       "      <td>GOVERNOR</td>\n",
       "      <td>GAVIN NEWSOM</td>\n",
       "      <td>486</td>\n",
       "      <td>62.7</td>\n",
       "      <td>120042</td>\n",
       "      <td>ROOSEVELT</td>\n",
       "    </tr>\n",
       "    <tr>\n",
       "      <th>2234</th>\n",
       "      <td>120043-UNIVERSITY N</td>\n",
       "      <td>GOVERNOR</td>\n",
       "      <td>GAVIN NEWSOM</td>\n",
       "      <td>252</td>\n",
       "      <td>109.8</td>\n",
       "      <td>120043</td>\n",
       "      <td>MUIR</td>\n",
       "    </tr>\n",
       "    <tr>\n",
       "      <th>2235</th>\n",
       "      <td>120050-UNIVERSITY N</td>\n",
       "      <td>GOVERNOR</td>\n",
       "      <td>GAVIN NEWSOM</td>\n",
       "      <td>398</td>\n",
       "      <td>73.1</td>\n",
       "      <td>120050</td>\n",
       "      <td>REVELLE</td>\n",
       "    </tr>\n",
       "    <tr>\n",
       "      <th>2236</th>\n",
       "      <td>120060-UNIVERSITY N</td>\n",
       "      <td>GOVERNOR</td>\n",
       "      <td>GAVIN NEWSOM</td>\n",
       "      <td>300</td>\n",
       "      <td>72.2</td>\n",
       "      <td>120060</td>\n",
       "      <td>SIXTH</td>\n",
       "    </tr>\n",
       "    <tr>\n",
       "      <th>2237</th>\n",
       "      <td>120065-UCSD-DROP OFF</td>\n",
       "      <td>GOVERNOR</td>\n",
       "      <td>GAVIN NEWSOM</td>\n",
       "      <td>314</td>\n",
       "      <td>0.0</td>\n",
       "      <td>120065</td>\n",
       "      <td>MAIL-DROP</td>\n",
       "    </tr>\n",
       "    <tr>\n",
       "      <th>2238</th>\n",
       "      <td>120070-UNIVERSITY N</td>\n",
       "      <td>GOVERNOR</td>\n",
       "      <td>GAVIN NEWSOM</td>\n",
       "      <td>313</td>\n",
       "      <td>66.4</td>\n",
       "      <td>120070</td>\n",
       "      <td>WARREN</td>\n",
       "    </tr>\n",
       "  </tbody>\n",
       "</table>\n",
       "</div>"
      ],
      "text/plain": [
       "                  PRECINCT CONTESTNAME CANDIDATENAME  VOTES  VOTERTURNOUT  \\\n",
       "2227   120000-UNIVERSITY N    GOVERNOR  GAVIN NEWSOM    761          74.9   \n",
       "2231   120040-UNIVERSITY N    GOVERNOR  GAVIN NEWSOM    254          75.5   \n",
       "2232   120041-UNIVERSITY N    GOVERNOR  GAVIN NEWSOM    217          80.3   \n",
       "2233   120042-UNIVERSITY N    GOVERNOR  GAVIN NEWSOM    486          62.7   \n",
       "2234   120043-UNIVERSITY N    GOVERNOR  GAVIN NEWSOM    252         109.8   \n",
       "2235   120050-UNIVERSITY N    GOVERNOR  GAVIN NEWSOM    398          73.1   \n",
       "2236   120060-UNIVERSITY N    GOVERNOR  GAVIN NEWSOM    300          72.2   \n",
       "2237  120065-UCSD-DROP OFF    GOVERNOR  GAVIN NEWSOM    314           0.0   \n",
       "2238   120070-UNIVERSITY N    GOVERNOR  GAVIN NEWSOM    313          66.4   \n",
       "\n",
       "      CONSNUM   CONSNAME  \n",
       "2227   120000       MESA  \n",
       "2231   120040    VILLAGE  \n",
       "2232   120041   MARSHALL  \n",
       "2233   120042  ROOSEVELT  \n",
       "2234   120043       MUIR  \n",
       "2235   120050    REVELLE  \n",
       "2236   120060      SIXTH  \n",
       "2237   120065  MAIL-DROP  \n",
       "2238   120070     WARREN  "
      ]
     },
     "execution_count": 17,
     "metadata": {},
     "output_type": "execute_result"
    }
   ],
   "source": [
    "ucsdprecincts_df[ucsdprecincts_df[\"CANDIDATENAME\"] == \"GAVIN NEWSOM\"]"
   ]
  },
  {
   "cell_type": "code",
   "execution_count": 27,
   "metadata": {},
   "outputs": [],
   "source": [
    "ucsdprecincts_df = ucsdprecincts_df[ucsdprecincts_df[\"CANDIDATENAME\"].isin(color_codes.keys())]"
   ]
  },
  {
   "cell_type": "code",
   "execution_count": 28,
   "metadata": {},
   "outputs": [],
   "source": [
    "ucsdprecincts_df = ucsdprecincts_df.sort_values([\"CONTESTNAME\"])#.to_csv(\"ucsd_precincts.csv\", index=False)\n",
    "# ucsdprecincts_df.sort_values([\"CONTESTNAME\"]).to_csv(\"ucsd_precincts.csv\", index=False)"
   ]
  },
  {
   "cell_type": "code",
   "execution_count": 43,
   "metadata": {},
   "outputs": [],
   "source": [
    "# store the new rows in a list\n",
    "new_df = []\n",
    "# go through each contest in the dataframe and calculate the winner, loser, and corresponding stats\n",
    "for race in ucsdprecincts_df.CONTESTNAME.unique():\n",
    "  # read in a a dataframe for the specific race and sort the values by the precinct number\n",
    "  race_df = ucsdprecincts_df[ucsdprecincts_df[\"CONTESTNAME\"] == race].sort_values(\"CONSNUM\").reset_index(drop=True)\n",
    "  for index, row in race_df.iterrows():\n",
    "    # go through every other row and compare with the previous row to calculate the winner and stats\n",
    "    if(index % 2 == 1):\n",
    "      total_votes = row[\"VOTES\"] + race_df[\"VOTES\"][index-1]\n",
    "      if(row[\"VOTES\"] > race_df[\"VOTES\"][index-1]):\n",
    "        winner = row[\"CANDIDATENAME\"]\n",
    "        loser = race_df[\"CANDIDATENAME\"][index-1]\n",
    "        win_votes = row[\"VOTES\"]\n",
    "        lose_votes = race_df[\"VOTES\"][index-1]\n",
    "        winner_perc = row[\"VOTES\"] / total_votes\n",
    "      else:\n",
    "        winner = race_df[\"CANDIDATENAME\"][index-1]\n",
    "        loser = row[\"CANDIDATENAME\"]\n",
    "        win_votes = race_df[\"VOTES\"][index-1]\n",
    "        lose_votes = race_df[\"VOTES\"][index]\n",
    "      # get the total votes in the race for the precinct and the winner's margin\n",
    "      winner_perc =  float(win_votes) / float(total_votes)\n",
    "      # get the winner color code\n",
    "      color_code = color_codes[winner]\n",
    "      new_row = [row[\"CONSNUM\"], row[\"CONSNAME\"], row[\"CONTESTNAME\"], row[\"VOTERTURNOUT\"], winner, loser, color_code, \n",
    "                 win_votes, lose_votes, winner_perc, total_votes]\n",
    "      new_df.append(new_row)"
   ]
  },
  {
   "cell_type": "code",
   "execution_count": 44,
   "metadata": {},
   "outputs": [],
   "source": [
    "new_df = pd.DataFrame(new_df, columns=[\"CONSNUM\", \"PRECINCTNAME\", \"CONTESTNAME\", \"TURNOUT\", \"WINNER\", \"LOSER\",\n",
    "                                       \"COLORCODE\", \"WINVOTES\", \"LOSEVOTES\", \"WINPERC\", \"TOTALVOTES\"])"
   ]
  },
  {
   "cell_type": "code",
   "execution_count": 58,
   "metadata": {},
   "outputs": [],
   "source": [
    "new_df = new_df[new_df[\"WINNER\"].isin(color_codes.keys())]\n",
    "new_df = new_df[~new_df[\"CONTESTNAME\"].str.contains(\"CA \")]"
   ]
  },
  {
   "cell_type": "code",
   "execution_count": 59,
   "metadata": {},
   "outputs": [],
   "source": [
    "#new_df.to_csv(\"ucsdmap.csv\")\n",
    "new_df = pd.read_csv(\"ucsdmap.csv\")"
   ]
  },
  {
   "cell_type": "code",
   "execution_count": 60,
   "metadata": {},
   "outputs": [],
   "source": [
    "ucsdprecincts_df = ucsdprecincts_df[ucsdprecincts_df[\"CANDIDATENAME\"].isin(color_codes.keys())]\n",
    "ucsdprecincts_df = ucsdprecincts_df[~ucsdprecincts_df[\"CONTESTNAME\"].str.contains(\"CA \")]"
   ]
  },
  {
   "cell_type": "code",
   "execution_count": 152,
   "metadata": {},
   "outputs": [],
   "source": [
    "# make lists of the relevant races and measures\n",
    "rel_race = ucsdprecincts_df[\"CONTESTNAME\"].unique()\n",
    "measures = [\"WINNER\", \"LOSER\", \"WINNER PERC\", \"TOTAL VOTES\", \"COLOR\"]\n",
    "round_place = 2"
   ]
  },
  {
   "cell_type": "code",
   "execution_count": 91,
   "metadata": {},
   "outputs": [],
   "source": [
    "# make the columns for the sheet to be merged with the geojson, each column is a specific race and corresponding measure\n",
    "col_names = [[race + \" \" + measure for measure in measures] for race in rel_race]\n",
    "col_names = [col_name for race_cols in col_names for col_name in race_cols]\n",
    "col_names.extend((\"VOTERTURNOUT\", \"PRECINCTNAME\"))"
   ]
  },
  {
   "cell_type": "code",
   "execution_count": 153,
   "metadata": {},
   "outputs": [],
   "source": [
    "merge_df = pd.DataFrame(index=new_df[\"CONSNUM\"].unique(), columns=col_names)\n",
    "# go through each contest in the dataframe and calculate the winner, loser, and corresponding stats\n",
    "for race in rel_race:\n",
    "  # read in a a dataframe for the specific race and sort the values by the precinct number\n",
    "  race_df = ucsdprecincts_df[ucsdprecincts_df[\"CONTESTNAME\"] == race].sort_values(\"CONSNUM\").reset_index(drop=True)\n",
    "  for index, row in race_df.iterrows():\n",
    "    # an iterator for the real measures list at the end of the loop\n",
    "    i = 0\n",
    "    # go through every other row and compare with the previous row to calculate the winner and stats\n",
    "    if(index % 2 == 1):\n",
    "      total_votes = row[\"VOTES\"] + race_df[\"VOTES\"][index-1]\n",
    "      if(row[\"VOTES\"] > race_df[\"VOTES\"][index-1]):\n",
    "        winner = row[\"CANDIDATENAME\"]\n",
    "        loser = race_df[\"CANDIDATENAME\"][index-1]\n",
    "        win_votes = row[\"VOTES\"]\n",
    "        lose_votes = race_df[\"VOTES\"][index-1]\n",
    "        winner_perc = row[\"VOTES\"] / total_votes\n",
    "      else:\n",
    "        winner = race_df[\"CANDIDATENAME\"][index-1]\n",
    "        loser = row[\"CANDIDATENAME\"]\n",
    "        win_votes = race_df[\"VOTES\"][index-1]\n",
    "        lose_votes = race_df[\"VOTES\"][index]\n",
    "      # get winner's margin\n",
    "      winner_perc =   round(((float(win_votes) / float(total_votes)) * 100), round_place)\n",
    "      # get the winner color code\n",
    "      color_code = color_codes[winner]\n",
    "      real_measures = [winner, loser, winner_perc, total_votes, color_code]\n",
    "      \n",
    "      for measure in measures:\n",
    "        merge_df.at[row[\"CONSNUM\"], race + \" \" + measure] = real_measures[i]\n",
    "        i += 1"
   ]
  },
  {
   "cell_type": "code",
   "execution_count": 154,
   "metadata": {},
   "outputs": [
    {
     "data": {
      "text/html": [
       "<div>\n",
       "<style scoped>\n",
       "    .dataframe tbody tr th:only-of-type {\n",
       "        vertical-align: middle;\n",
       "    }\n",
       "\n",
       "    .dataframe tbody tr th {\n",
       "        vertical-align: top;\n",
       "    }\n",
       "\n",
       "    .dataframe thead th {\n",
       "        text-align: right;\n",
       "    }\n",
       "</style>\n",
       "<table border=\"1\" class=\"dataframe\">\n",
       "  <thead>\n",
       "    <tr style=\"text-align: right;\">\n",
       "      <th></th>\n",
       "      <th>PRECINCT</th>\n",
       "      <th>CONTESTNAME</th>\n",
       "      <th>CANDIDATENAME</th>\n",
       "      <th>VOTES</th>\n",
       "      <th>VOTERTURNOUT</th>\n",
       "      <th>CONSNUM</th>\n",
       "      <th>CONSNAME</th>\n",
       "    </tr>\n",
       "  </thead>\n",
       "  <tbody>\n",
       "    <tr>\n",
       "      <th>23598</th>\n",
       "      <td>120070-UNIVERSITY N</td>\n",
       "      <td>ATTORNEY GENERAL</td>\n",
       "      <td>STEVEN C BAILEY</td>\n",
       "      <td>34</td>\n",
       "      <td>66.4</td>\n",
       "      <td>120070</td>\n",
       "      <td>WARREN</td>\n",
       "    </tr>\n",
       "    <tr>\n",
       "      <th>23597</th>\n",
       "      <td>120065-UCSD-DROP OFF</td>\n",
       "      <td>ATTORNEY GENERAL</td>\n",
       "      <td>STEVEN C BAILEY</td>\n",
       "      <td>30</td>\n",
       "      <td>0.0</td>\n",
       "      <td>120065</td>\n",
       "      <td>MAIL-DROP</td>\n",
       "    </tr>\n",
       "    <tr>\n",
       "      <th>23593</th>\n",
       "      <td>120042-UNIVERSITY N</td>\n",
       "      <td>ATTORNEY GENERAL</td>\n",
       "      <td>STEVEN C BAILEY</td>\n",
       "      <td>44</td>\n",
       "      <td>62.7</td>\n",
       "      <td>120042</td>\n",
       "      <td>ROOSEVELT</td>\n",
       "    </tr>\n",
       "    <tr>\n",
       "      <th>23596</th>\n",
       "      <td>120060-UNIVERSITY N</td>\n",
       "      <td>ATTORNEY GENERAL</td>\n",
       "      <td>STEVEN C BAILEY</td>\n",
       "      <td>33</td>\n",
       "      <td>72.2</td>\n",
       "      <td>120060</td>\n",
       "      <td>SIXTH</td>\n",
       "    </tr>\n",
       "    <tr>\n",
       "      <th>23595</th>\n",
       "      <td>120050-UNIVERSITY N</td>\n",
       "      <td>ATTORNEY GENERAL</td>\n",
       "      <td>STEVEN C BAILEY</td>\n",
       "      <td>46</td>\n",
       "      <td>73.1</td>\n",
       "      <td>120050</td>\n",
       "      <td>REVELLE</td>\n",
       "    </tr>\n",
       "  </tbody>\n",
       "</table>\n",
       "</div>"
      ],
      "text/plain": [
       "                   PRECINCT       CONTESTNAME    CANDIDATENAME  VOTES  \\\n",
       "23598   120070-UNIVERSITY N  ATTORNEY GENERAL  STEVEN C BAILEY     34   \n",
       "23597  120065-UCSD-DROP OFF  ATTORNEY GENERAL  STEVEN C BAILEY     30   \n",
       "23593   120042-UNIVERSITY N  ATTORNEY GENERAL  STEVEN C BAILEY     44   \n",
       "23596   120060-UNIVERSITY N  ATTORNEY GENERAL  STEVEN C BAILEY     33   \n",
       "23595   120050-UNIVERSITY N  ATTORNEY GENERAL  STEVEN C BAILEY     46   \n",
       "\n",
       "       VOTERTURNOUT  CONSNUM   CONSNAME  \n",
       "23598          66.4   120070     WARREN  \n",
       "23597           0.0   120065  MAIL-DROP  \n",
       "23593          62.7   120042  ROOSEVELT  \n",
       "23596          72.2   120060      SIXTH  \n",
       "23595          73.1   120050    REVELLE  "
      ]
     },
     "execution_count": 154,
     "metadata": {},
     "output_type": "execute_result"
    }
   ],
   "source": [
    "ucsdprecincts_df.head()"
   ]
  },
  {
   "cell_type": "code",
   "execution_count": 155,
   "metadata": {},
   "outputs": [],
   "source": [
    "# set the values for turnout and precinct name\n",
    "for index, row in merge_df.iterrows():\n",
    "  # filter the original sheet for the precinct number and take the mean\n",
    "  merge_df.at[index, \"VOTERTURNOUT\"] = round(ucsdprecincts_df[ucsdprecincts_df[\"CONSNUM\"] == index][\"VOTERTURNOUT\"].mean(), round_place)\n",
    "  # get the value from the preinct dict\n",
    "  merge_df.at[index, \"PRECINCTNAME\"] = ucsd_precincts[index]"
   ]
  },
  {
   "cell_type": "code",
   "execution_count": 156,
   "metadata": {},
   "outputs": [],
   "source": [
    "new_col_names = [col_name.lower().replace(\" \", \"\") for col_name in list(merge_df)]\n",
    "merge_df.columns = new_col_names"
   ]
  },
  {
   "cell_type": "code",
   "execution_count": 157,
   "metadata": {},
   "outputs": [],
   "source": [
    "merge_df.to_csv(\"ucsdmap.csv\")"
   ]
  },
  {
   "cell_type": "markdown",
   "metadata": {},
   "source": [
    "## Testing with inewsource data\n",
    "#### Specific Races\n",
    "\n",
    "Data pulled from [inewsource](https://inewsource.org/)"
   ]
  },
  {
   "cell_type": "code",
   "execution_count": 7,
   "metadata": {},
   "outputs": [],
   "source": [
    "results_dir = \"./race_results_sheets\"\n",
    "ucsd_results_dir = \"./ucsd_sheets/\"\n",
    "ucsd_prefix = \"UCSD_\"\n",
    "sheet_names = os.listdir(results_dir)"
   ]
  },
  {
   "cell_type": "code",
   "execution_count": 24,
   "metadata": {},
   "outputs": [],
   "source": [
    "for file_name in sheet_names:\n",
    "  results_df = pd.read_csv(results_dir + \"/\"+ file_name)\n",
    "  col_names = list(results_df)\n",
    "  new_col_names = []\n",
    "  for name in col_names:\n",
    "    new_col_names.append(name.upper().replace(\" \", \"\"))\n",
    "  results_df.columns = new_col_names\n",
    "  \n",
    "  results_df = results_df[results_df[\"CONSNUM\"].isin(ucsd_precincts.keys())]\n",
    "  results_df[\"COLORCODE\"] = results_df.COLORCODE.astype(int)\n",
    "  results_df[\"CONSNUM\"] = results_df.CONSNUM.astype(int)\n",
    "  results_df = results_df[new_col_names[:-1]]\n",
    "  results_df = results_df.dropna(how=\"all\", axis=1)\n",
    "  \n",
    "  file_name = file_name.lower().replace(\" \", \"\")\n",
    "  results_df.to_csv(ucsd_results_dir + ucsd_prefix + file_name, index=False)"
   ]
  }
 ],
 "metadata": {
  "kernelspec": {
   "display_name": "Python 3",
   "language": "python",
   "name": "python3"
  },
  "language_info": {
   "codemirror_mode": {
    "name": "ipython",
    "version": 2
   },
   "file_extension": ".py",
   "mimetype": "text/x-python",
   "name": "python",
   "nbconvert_exporter": "python",
   "pygments_lexer": "ipython2",
   "version": "2.7.15"
  }
 },
 "nbformat": 4,
 "nbformat_minor": 2
}
