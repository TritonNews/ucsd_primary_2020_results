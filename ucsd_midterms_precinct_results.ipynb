{
 "cells": [
  {
   "cell_type": "markdown",
   "metadata": {},
   "source": [
    "# UC San Diego Midterms 2018 Precinct Results"
   ]
  },
  {
   "cell_type": "code",
   "execution_count": 120,
   "metadata": {},
   "outputs": [],
   "source": [
    "import pandas as pd\n",
    "import os"
   ]
  },
  {
   "cell_type": "code",
   "execution_count": 121,
   "metadata": {},
   "outputs": [],
   "source": [
    "ucsd_precincts = [120000, 120040, 120041, 120042, 120043, 120050, 120060, 120070, 120065]"
   ]
  },
  {
   "cell_type": "code",
   "execution_count": 122,
   "metadata": {},
   "outputs": [],
   "source": [
    "sdprecincts_df = pd.read_csv(\"san_diego_precints.csv\", skiprows=1)"
   ]
  },
  {
   "cell_type": "code",
   "execution_count": 123,
   "metadata": {},
   "outputs": [],
   "source": [
    "col_names = list(sdprecincts_df)\n",
    "new_col_names = []\n",
    "for name in col_names:\n",
    "  new_col_names.append(name.upper().replace(\" \", \"\"))\n",
    "sdprecincts_df.columns = new_col_names"
   ]
  },
  {
   "cell_type": "code",
   "execution_count": 124,
   "metadata": {},
   "outputs": [
    {
     "data": {
      "text/html": [
       "<div>\n",
       "<style scoped>\n",
       "    .dataframe tbody tr th:only-of-type {\n",
       "        vertical-align: middle;\n",
       "    }\n",
       "\n",
       "    .dataframe tbody tr th {\n",
       "        vertical-align: top;\n",
       "    }\n",
       "\n",
       "    .dataframe thead th {\n",
       "        text-align: right;\n",
       "    }\n",
       "</style>\n",
       "<table border=\"1\" class=\"dataframe\">\n",
       "  <thead>\n",
       "    <tr style=\"text-align: right;\">\n",
       "      <th></th>\n",
       "      <th>PRECINCT</th>\n",
       "      <th>CONTESTNAME</th>\n",
       "      <th>CANDIDATENAME</th>\n",
       "      <th>VOTES</th>\n",
       "      <th>VOTERTURNOUT</th>\n",
       "    </tr>\n",
       "  </thead>\n",
       "  <tbody>\n",
       "    <tr>\n",
       "      <th>0</th>\n",
       "      <td>105000-RANCHO BERNARDO</td>\n",
       "      <td>GOVERNOR</td>\n",
       "      <td>JOHN H. COX</td>\n",
       "      <td>380</td>\n",
       "      <td>71.06%</td>\n",
       "    </tr>\n",
       "    <tr>\n",
       "      <th>1</th>\n",
       "      <td>105010-RANCHO BERNARDO</td>\n",
       "      <td>GOVERNOR</td>\n",
       "      <td>JOHN H. COX</td>\n",
       "      <td>532</td>\n",
       "      <td>59.54%</td>\n",
       "    </tr>\n",
       "    <tr>\n",
       "      <th>2</th>\n",
       "      <td>105040-RANCHO BERNARDO</td>\n",
       "      <td>GOVERNOR</td>\n",
       "      <td>JOHN H. COX</td>\n",
       "      <td>560</td>\n",
       "      <td>73.33%</td>\n",
       "    </tr>\n",
       "    <tr>\n",
       "      <th>3</th>\n",
       "      <td>105100-RANCHO BERNARDO</td>\n",
       "      <td>GOVERNOR</td>\n",
       "      <td>JOHN H. COX</td>\n",
       "      <td>308</td>\n",
       "      <td>52.38%</td>\n",
       "    </tr>\n",
       "    <tr>\n",
       "      <th>4</th>\n",
       "      <td>105160-RANCHO BERNARDO</td>\n",
       "      <td>GOVERNOR</td>\n",
       "      <td>JOHN H. COX</td>\n",
       "      <td>278</td>\n",
       "      <td>51.80%</td>\n",
       "    </tr>\n",
       "  </tbody>\n",
       "</table>\n",
       "</div>"
      ],
      "text/plain": [
       "                 PRECINCT CONTESTNAME CANDIDATENAME  VOTES VOTERTURNOUT\n",
       "0  105000-RANCHO BERNARDO    GOVERNOR   JOHN H. COX    380       71.06%\n",
       "1  105010-RANCHO BERNARDO    GOVERNOR   JOHN H. COX    532       59.54%\n",
       "2  105040-RANCHO BERNARDO    GOVERNOR   JOHN H. COX    560       73.33%\n",
       "3  105100-RANCHO BERNARDO    GOVERNOR   JOHN H. COX    308       52.38%\n",
       "4  105160-RANCHO BERNARDO    GOVERNOR   JOHN H. COX    278       51.80%"
      ]
     },
     "execution_count": 124,
     "metadata": {},
     "output_type": "execute_result"
    }
   ],
   "source": [
    "sdprecincts_df.head()"
   ]
  },
  {
   "cell_type": "code",
   "execution_count": 125,
   "metadata": {},
   "outputs": [
    {
     "data": {
      "text/plain": [
       "['PRECINCT', 'CONTESTNAME', 'CANDIDATENAME', 'VOTES', 'VOTERTURNOUT']"
      ]
     },
     "execution_count": 125,
     "metadata": {},
     "output_type": "execute_result"
    }
   ],
   "source": [
    "list(sdprecincts_df)"
   ]
  },
  {
   "cell_type": "code",
   "execution_count": 126,
   "metadata": {},
   "outputs": [],
   "source": [
    "sdprecincts_df[\"CONSNUM\"] = sdprecincts_df[\"PRECINCT\"].str.slice(0,6).astype(int)"
   ]
  },
  {
   "cell_type": "code",
   "execution_count": 127,
   "metadata": {},
   "outputs": [
    {
     "data": {
      "text/html": [
       "<div>\n",
       "<style scoped>\n",
       "    .dataframe tbody tr th:only-of-type {\n",
       "        vertical-align: middle;\n",
       "    }\n",
       "\n",
       "    .dataframe tbody tr th {\n",
       "        vertical-align: top;\n",
       "    }\n",
       "\n",
       "    .dataframe thead th {\n",
       "        text-align: right;\n",
       "    }\n",
       "</style>\n",
       "<table border=\"1\" class=\"dataframe\">\n",
       "  <thead>\n",
       "    <tr style=\"text-align: right;\">\n",
       "      <th></th>\n",
       "      <th>PRECINCT</th>\n",
       "      <th>CONTESTNAME</th>\n",
       "      <th>CANDIDATENAME</th>\n",
       "      <th>VOTES</th>\n",
       "      <th>VOTERTURNOUT</th>\n",
       "      <th>CONSNUM</th>\n",
       "    </tr>\n",
       "  </thead>\n",
       "  <tbody>\n",
       "    <tr>\n",
       "      <th>0</th>\n",
       "      <td>105000-RANCHO BERNARDO</td>\n",
       "      <td>GOVERNOR</td>\n",
       "      <td>JOHN H. COX</td>\n",
       "      <td>380</td>\n",
       "      <td>71.06%</td>\n",
       "      <td>105000</td>\n",
       "    </tr>\n",
       "    <tr>\n",
       "      <th>1</th>\n",
       "      <td>105010-RANCHO BERNARDO</td>\n",
       "      <td>GOVERNOR</td>\n",
       "      <td>JOHN H. COX</td>\n",
       "      <td>532</td>\n",
       "      <td>59.54%</td>\n",
       "      <td>105010</td>\n",
       "    </tr>\n",
       "    <tr>\n",
       "      <th>2</th>\n",
       "      <td>105040-RANCHO BERNARDO</td>\n",
       "      <td>GOVERNOR</td>\n",
       "      <td>JOHN H. COX</td>\n",
       "      <td>560</td>\n",
       "      <td>73.33%</td>\n",
       "      <td>105040</td>\n",
       "    </tr>\n",
       "    <tr>\n",
       "      <th>3</th>\n",
       "      <td>105100-RANCHO BERNARDO</td>\n",
       "      <td>GOVERNOR</td>\n",
       "      <td>JOHN H. COX</td>\n",
       "      <td>308</td>\n",
       "      <td>52.38%</td>\n",
       "      <td>105100</td>\n",
       "    </tr>\n",
       "    <tr>\n",
       "      <th>4</th>\n",
       "      <td>105160-RANCHO BERNARDO</td>\n",
       "      <td>GOVERNOR</td>\n",
       "      <td>JOHN H. COX</td>\n",
       "      <td>278</td>\n",
       "      <td>51.80%</td>\n",
       "      <td>105160</td>\n",
       "    </tr>\n",
       "  </tbody>\n",
       "</table>\n",
       "</div>"
      ],
      "text/plain": [
       "                 PRECINCT CONTESTNAME CANDIDATENAME  VOTES VOTERTURNOUT  \\\n",
       "0  105000-RANCHO BERNARDO    GOVERNOR   JOHN H. COX    380       71.06%   \n",
       "1  105010-RANCHO BERNARDO    GOVERNOR   JOHN H. COX    532       59.54%   \n",
       "2  105040-RANCHO BERNARDO    GOVERNOR   JOHN H. COX    560       73.33%   \n",
       "3  105100-RANCHO BERNARDO    GOVERNOR   JOHN H. COX    308       52.38%   \n",
       "4  105160-RANCHO BERNARDO    GOVERNOR   JOHN H. COX    278       51.80%   \n",
       "\n",
       "   CONSNUM  \n",
       "0   105000  \n",
       "1   105010  \n",
       "2   105040  \n",
       "3   105100  \n",
       "4   105160  "
      ]
     },
     "execution_count": 127,
     "metadata": {},
     "output_type": "execute_result"
    }
   ],
   "source": [
    "sdprecincts_df.head()"
   ]
  },
  {
   "cell_type": "code",
   "execution_count": 128,
   "metadata": {},
   "outputs": [],
   "source": [
    "ucsdprecincts_df = sdprecincts_df[sdprecincts_df[\"CONSNUM\"].isin(ucsd_precincts)]"
   ]
  },
  {
   "cell_type": "code",
   "execution_count": 129,
   "metadata": {},
   "outputs": [
    {
     "data": {
      "text/html": [
       "<div>\n",
       "<style scoped>\n",
       "    .dataframe tbody tr th:only-of-type {\n",
       "        vertical-align: middle;\n",
       "    }\n",
       "\n",
       "    .dataframe tbody tr th {\n",
       "        vertical-align: top;\n",
       "    }\n",
       "\n",
       "    .dataframe thead th {\n",
       "        text-align: right;\n",
       "    }\n",
       "</style>\n",
       "<table border=\"1\" class=\"dataframe\">\n",
       "  <thead>\n",
       "    <tr style=\"text-align: right;\">\n",
       "      <th></th>\n",
       "      <th>PRECINCT</th>\n",
       "      <th>CONTESTNAME</th>\n",
       "      <th>CANDIDATENAME</th>\n",
       "      <th>VOTES</th>\n",
       "      <th>VOTERTURNOUT</th>\n",
       "      <th>CONSNUM</th>\n",
       "    </tr>\n",
       "  </thead>\n",
       "  <tbody>\n",
       "    <tr>\n",
       "      <th>91</th>\n",
       "      <td>120000-UNIVERSITY N</td>\n",
       "      <td>GOVERNOR</td>\n",
       "      <td>JOHN H. COX</td>\n",
       "      <td>45</td>\n",
       "      <td>34.07%</td>\n",
       "      <td>120000</td>\n",
       "    </tr>\n",
       "    <tr>\n",
       "      <th>95</th>\n",
       "      <td>120040-UNIVERSITY N</td>\n",
       "      <td>GOVERNOR</td>\n",
       "      <td>JOHN H. COX</td>\n",
       "      <td>11</td>\n",
       "      <td>22.83%</td>\n",
       "      <td>120040</td>\n",
       "    </tr>\n",
       "    <tr>\n",
       "      <th>96</th>\n",
       "      <td>120041-UNIVERSITY N</td>\n",
       "      <td>GOVERNOR</td>\n",
       "      <td>JOHN H. COX</td>\n",
       "      <td>4</td>\n",
       "      <td>21.90%</td>\n",
       "      <td>120041</td>\n",
       "    </tr>\n",
       "    <tr>\n",
       "      <th>97</th>\n",
       "      <td>120042-UNIVERSITY N</td>\n",
       "      <td>GOVERNOR</td>\n",
       "      <td>JOHN H. COX</td>\n",
       "      <td>3</td>\n",
       "      <td>7.59%</td>\n",
       "      <td>120042</td>\n",
       "    </tr>\n",
       "    <tr>\n",
       "      <th>98</th>\n",
       "      <td>120043-UNIVERSITY N</td>\n",
       "      <td>GOVERNOR</td>\n",
       "      <td>JOHN H. COX</td>\n",
       "      <td>5</td>\n",
       "      <td>19.39%</td>\n",
       "      <td>120043</td>\n",
       "    </tr>\n",
       "  </tbody>\n",
       "</table>\n",
       "</div>"
      ],
      "text/plain": [
       "               PRECINCT CONTESTNAME CANDIDATENAME  VOTES VOTERTURNOUT  CONSNUM\n",
       "91  120000-UNIVERSITY N    GOVERNOR   JOHN H. COX     45       34.07%   120000\n",
       "95  120040-UNIVERSITY N    GOVERNOR   JOHN H. COX     11       22.83%   120040\n",
       "96  120041-UNIVERSITY N    GOVERNOR   JOHN H. COX      4       21.90%   120041\n",
       "97  120042-UNIVERSITY N    GOVERNOR   JOHN H. COX      3        7.59%   120042\n",
       "98  120043-UNIVERSITY N    GOVERNOR   JOHN H. COX      5       19.39%   120043"
      ]
     },
     "execution_count": 129,
     "metadata": {},
     "output_type": "execute_result"
    }
   ],
   "source": [
    "ucsdprecincts_df.head()"
   ]
  },
  {
   "cell_type": "code",
   "execution_count": 130,
   "metadata": {},
   "outputs": [
    {
     "name": "stderr",
     "output_type": "stream",
     "text": [
      "/Users/SoloMune/miniconda2/lib/python2.7/site-packages/ipykernel_launcher.py:1: SettingWithCopyWarning: \n",
      "A value is trying to be set on a copy of a slice from a DataFrame.\n",
      "Try using .loc[row_indexer,col_indexer] = value instead\n",
      "\n",
      "See the caveats in the documentation: http://pandas.pydata.org/pandas-docs/stable/indexing.html#indexing-view-versus-copy\n",
      "  \"\"\"Entry point for launching an IPython kernel.\n"
     ]
    }
   ],
   "source": [
    "ucsdprecincts_df[\"VOTERTURNOUT\"] = sdprecincts_df[\"VOTERTURNOUT\"].str.slice(0, -2).astype(float)"
   ]
  },
  {
   "cell_type": "code",
   "execution_count": 131,
   "metadata": {},
   "outputs": [
    {
     "data": {
      "text/plain": [
       "16.733333333333334"
      ]
     },
     "execution_count": 131,
     "metadata": {},
     "output_type": "execute_result"
    }
   ],
   "source": [
    "ucsdprecincts_df[\"VOTERTURNOUT\"].mean()"
   ]
  },
  {
   "cell_type": "code",
   "execution_count": 132,
   "metadata": {},
   "outputs": [
    {
     "data": {
      "text/html": [
       "<div>\n",
       "<style scoped>\n",
       "    .dataframe tbody tr th:only-of-type {\n",
       "        vertical-align: middle;\n",
       "    }\n",
       "\n",
       "    .dataframe tbody tr th {\n",
       "        vertical-align: top;\n",
       "    }\n",
       "\n",
       "    .dataframe thead th {\n",
       "        text-align: right;\n",
       "    }\n",
       "</style>\n",
       "<table border=\"1\" class=\"dataframe\">\n",
       "  <thead>\n",
       "    <tr style=\"text-align: right;\">\n",
       "      <th></th>\n",
       "      <th>PRECINCT</th>\n",
       "      <th>CONTESTNAME</th>\n",
       "      <th>CANDIDATENAME</th>\n",
       "      <th>VOTES</th>\n",
       "      <th>VOTERTURNOUT</th>\n",
       "      <th>CONSNUM</th>\n",
       "    </tr>\n",
       "  </thead>\n",
       "  <tbody>\n",
       "    <tr>\n",
       "      <th>91</th>\n",
       "      <td>120000-UNIVERSITY N</td>\n",
       "      <td>GOVERNOR</td>\n",
       "      <td>JOHN H. COX</td>\n",
       "      <td>45</td>\n",
       "      <td>34.0</td>\n",
       "      <td>120000</td>\n",
       "    </tr>\n",
       "    <tr>\n",
       "      <th>95</th>\n",
       "      <td>120040-UNIVERSITY N</td>\n",
       "      <td>GOVERNOR</td>\n",
       "      <td>JOHN H. COX</td>\n",
       "      <td>11</td>\n",
       "      <td>22.8</td>\n",
       "      <td>120040</td>\n",
       "    </tr>\n",
       "    <tr>\n",
       "      <th>96</th>\n",
       "      <td>120041-UNIVERSITY N</td>\n",
       "      <td>GOVERNOR</td>\n",
       "      <td>JOHN H. COX</td>\n",
       "      <td>4</td>\n",
       "      <td>21.9</td>\n",
       "      <td>120041</td>\n",
       "    </tr>\n",
       "    <tr>\n",
       "      <th>97</th>\n",
       "      <td>120042-UNIVERSITY N</td>\n",
       "      <td>GOVERNOR</td>\n",
       "      <td>JOHN H. COX</td>\n",
       "      <td>3</td>\n",
       "      <td>7.5</td>\n",
       "      <td>120042</td>\n",
       "    </tr>\n",
       "    <tr>\n",
       "      <th>98</th>\n",
       "      <td>120043-UNIVERSITY N</td>\n",
       "      <td>GOVERNOR</td>\n",
       "      <td>JOHN H. COX</td>\n",
       "      <td>5</td>\n",
       "      <td>19.3</td>\n",
       "      <td>120043</td>\n",
       "    </tr>\n",
       "  </tbody>\n",
       "</table>\n",
       "</div>"
      ],
      "text/plain": [
       "               PRECINCT CONTESTNAME CANDIDATENAME  VOTES  VOTERTURNOUT  \\\n",
       "91  120000-UNIVERSITY N    GOVERNOR   JOHN H. COX     45          34.0   \n",
       "95  120040-UNIVERSITY N    GOVERNOR   JOHN H. COX     11          22.8   \n",
       "96  120041-UNIVERSITY N    GOVERNOR   JOHN H. COX      4          21.9   \n",
       "97  120042-UNIVERSITY N    GOVERNOR   JOHN H. COX      3           7.5   \n",
       "98  120043-UNIVERSITY N    GOVERNOR   JOHN H. COX      5          19.3   \n",
       "\n",
       "    CONSNUM  \n",
       "91   120000  \n",
       "95   120040  \n",
       "96   120041  \n",
       "97   120042  \n",
       "98   120043  "
      ]
     },
     "execution_count": 132,
     "metadata": {},
     "output_type": "execute_result"
    }
   ],
   "source": [
    "ucsdprecincts_df[ucsdprecincts_df[\"CONTESTNAME\"] == \"GOVERNOR\"].head()"
   ]
  },
  {
   "cell_type": "code",
   "execution_count": 133,
   "metadata": {},
   "outputs": [],
   "source": [
    "ucsdprecincts_df = ucsdprecincts_df.sort_values([\"CONTESTNAME\"])#.to_csv(\"ucsd_precincts.csv\", index=False)\n",
    "ucsdprecincts_df.sort_values([\"CONTESTNAME\"]).to_csv(\"ucsd_precincts.csv\", index=False)"
   ]
  },
  {
   "cell_type": "code",
   "execution_count": null,
   "metadata": {},
   "outputs": [],
   "source": [
    "for race in ucsdprecincts_df.:\n",
    "  race_df = ucsdprecincts_df[ucsdprecincts_df[\"CONSNUM\"] == precinct]\n",
    "  \n",
    "  for index, row in race_df.iterrows():\n",
    "    "
   ]
  },
  {
   "cell_type": "code",
   "execution_count": 135,
   "metadata": {},
   "outputs": [],
   "source": [
    "ucsdprecincts_df[[\"CONSNUM\", \"VOTERTURNOUT\"]].drop_duplicates().to_csv(\"ucsd_turnout.csv\", index=False)"
   ]
  },
  {
   "cell_type": "code",
   "execution_count": null,
   "metadata": {},
   "outputs": [],
   "source": [
    "# new_df = pd.DataFrame()\n",
    "for precinct in ucsd_precincts:\n",
    "  precinct_df = ucsdprecincts_df[ucsdprecincts_df[\"CONSNUM\"] == precinct]\n",
    "  \n",
    "  "
   ]
  },
  {
   "cell_type": "markdown",
   "metadata": {},
   "source": [
    "# Specific Races\n",
    "\n",
    "Data pulled from [inewsource](https://inewsource.org/)"
   ]
  },
  {
   "cell_type": "code",
   "execution_count": 7,
   "metadata": {},
   "outputs": [],
   "source": [
    "results_dir = \"./race_results_sheets\"\n",
    "ucsd_results_dir = \"./ucsd_sheets/\"\n",
    "ucsd_prefix = \"UCSD_\"\n",
    "sheet_names = os.listdir(results_dir)"
   ]
  },
  {
   "cell_type": "code",
   "execution_count": 24,
   "metadata": {},
   "outputs": [],
   "source": [
    "for file_name in sheet_names:\n",
    "  results_df = pd.read_csv(results_dir + \"/\"+ file_name)\n",
    "  col_names = list(results_df)\n",
    "  new_col_names = []\n",
    "  for name in col_names:\n",
    "    new_col_names.append(name.upper().replace(\" \", \"\"))\n",
    "  results_df.columns = new_col_names\n",
    "  \n",
    "  results_df = results_df[results_df[\"CONSNUM\"].isin(ucsd_precincts)]\n",
    "  results_df[\"COLORCODE\"] = results_df.COLORCODE.astype(int)\n",
    "  results_df[\"CONSNUM\"] = results_df.CONSNUM.astype(int)\n",
    "  results_df = results_df[new_col_names[:-1]]\n",
    "  results_df = results_df.dropna(how=\"all\", axis=1)\n",
    "  \n",
    "  file_name = file_name.lower().replace(\" \", \"\")\n",
    "  results_df.to_csv(ucsd_results_dir + ucsd_prefix + file_name, index=False)"
   ]
  },
  {
   "cell_type": "code",
   "execution_count": null,
   "metadata": {},
   "outputs": [],
   "source": []
  }
 ],
 "metadata": {
  "kernelspec": {
   "display_name": "Python 3",
   "language": "python",
   "name": "python3"
  },
  "language_info": {
   "codemirror_mode": {
    "name": "ipython",
    "version": 2
   },
   "file_extension": ".py",
   "mimetype": "text/x-python",
   "name": "python",
   "nbconvert_exporter": "python",
   "pygments_lexer": "ipython2",
   "version": "2.7.15"
  }
 },
 "nbformat": 4,
 "nbformat_minor": 2
}
